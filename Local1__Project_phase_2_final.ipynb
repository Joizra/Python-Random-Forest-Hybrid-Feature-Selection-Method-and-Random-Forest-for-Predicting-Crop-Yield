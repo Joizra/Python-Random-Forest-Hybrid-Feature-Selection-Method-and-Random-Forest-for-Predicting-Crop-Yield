{
  "cells": [
    {
      "cell_type": "markdown",
      "metadata": {
        "id": "view-in-github",
        "colab_type": "text"
      },
      "source": [
        "<a href=\"https://colab.research.google.com/github/Joizra/Python-Random-Forest-Hybrid-Feature-Selection-Method-and-Random-Forest-for-Predicting-Crop-Yield/blob/main/Local1__Project_phase_2_final.ipynb\" target=\"_parent\"><img src=\"https://colab.research.google.com/assets/colab-badge.svg\" alt=\"Open In Colab\"/></a>"
      ]
    },
    {
      "cell_type": "markdown",
      "metadata": {
        "id": "Hg2VWiC6hMps"
      },
      "source": [
        "# Libraries"
      ]
    },
    {
      "cell_type": "code",
      "execution_count": null,
      "metadata": {
        "id": "5LX1xeJghe6k"
      },
      "outputs": [],
      "source": [
        "import pandas as pd\n",
        "import numpy as np\n",
        "import seaborn as sns\n",
        "import matplotlib.pyplot as plt\n",
        "import numpy as np\n",
        "import pandas as pd\n",
        "import statsmodels.api as sm\n",
        "from sklearn.model_selection import train_test_split\n",
        "from sklearn.linear_model import Ridge\n",
        "from sklearn.metrics import mean_squared_error\n",
        "from sklearn.preprocessing import StandardScaler\n",
        "from sklearn.linear_model import Lasso\n",
        "from sklearn.model_selection import cross_val_score, KFold\n",
        "from sklearn.linear_model import LinearRegression\n",
        "from sklearn.metrics import make_scorer, r2_score\n",
        "from sklearn.metrics import mean_squared_error\n",
        "from sklearn.model_selection import KFold\n",
        "from sklearn.ensemble import RandomForestRegressor\n",
        "from sklearn.model_selection import GridSearchCV\n",
        "from sklearn.metrics import make_scorer, mean_squared_error, mean_absolute_error, r2_score"
      ]
    },
    {
      "cell_type": "code",
      "execution_count": null,
      "metadata": {
        "colab": {
          "base_uri": "https://localhost:8080/"
        },
        "id": "rpwOKdtP1q3s",
        "outputId": "63fd1440-6e71-4aca-89c7-4c0b6225ec5e"
      },
      "outputs": [
        {
          "output_type": "stream",
          "name": "stdout",
          "text": [
            "Requirement already satisfied: joblib in /usr/local/lib/python3.10/dist-packages (1.3.2)\n",
            "Requirement already satisfied: mlxtend in /usr/local/lib/python3.10/dist-packages (0.22.0)\n",
            "Requirement already satisfied: scipy>=1.2.1 in /usr/local/lib/python3.10/dist-packages (from mlxtend) (1.11.4)\n",
            "Requirement already satisfied: numpy>=1.16.2 in /usr/local/lib/python3.10/dist-packages (from mlxtend) (1.25.2)\n",
            "Requirement already satisfied: pandas>=0.24.2 in /usr/local/lib/python3.10/dist-packages (from mlxtend) (2.0.3)\n",
            "Requirement already satisfied: scikit-learn>=1.0.2 in /usr/local/lib/python3.10/dist-packages (from mlxtend) (1.2.2)\n",
            "Requirement already satisfied: matplotlib>=3.0.0 in /usr/local/lib/python3.10/dist-packages (from mlxtend) (3.7.1)\n",
            "Requirement already satisfied: joblib>=0.13.2 in /usr/local/lib/python3.10/dist-packages (from mlxtend) (1.3.2)\n",
            "Requirement already satisfied: setuptools in /usr/local/lib/python3.10/dist-packages (from mlxtend) (67.7.2)\n",
            "Requirement already satisfied: contourpy>=1.0.1 in /usr/local/lib/python3.10/dist-packages (from matplotlib>=3.0.0->mlxtend) (1.2.1)\n",
            "Requirement already satisfied: cycler>=0.10 in /usr/local/lib/python3.10/dist-packages (from matplotlib>=3.0.0->mlxtend) (0.12.1)\n",
            "Requirement already satisfied: fonttools>=4.22.0 in /usr/local/lib/python3.10/dist-packages (from matplotlib>=3.0.0->mlxtend) (4.50.0)\n",
            "Requirement already satisfied: kiwisolver>=1.0.1 in /usr/local/lib/python3.10/dist-packages (from matplotlib>=3.0.0->mlxtend) (1.4.5)\n",
            "Requirement already satisfied: packaging>=20.0 in /usr/local/lib/python3.10/dist-packages (from matplotlib>=3.0.0->mlxtend) (24.0)\n",
            "Requirement already satisfied: pillow>=6.2.0 in /usr/local/lib/python3.10/dist-packages (from matplotlib>=3.0.0->mlxtend) (9.4.0)\n",
            "Requirement already satisfied: pyparsing>=2.3.1 in /usr/local/lib/python3.10/dist-packages (from matplotlib>=3.0.0->mlxtend) (3.1.2)\n",
            "Requirement already satisfied: python-dateutil>=2.7 in /usr/local/lib/python3.10/dist-packages (from matplotlib>=3.0.0->mlxtend) (2.8.2)\n",
            "Requirement already satisfied: pytz>=2020.1 in /usr/local/lib/python3.10/dist-packages (from pandas>=0.24.2->mlxtend) (2023.4)\n",
            "Requirement already satisfied: tzdata>=2022.1 in /usr/local/lib/python3.10/dist-packages (from pandas>=0.24.2->mlxtend) (2024.1)\n",
            "Requirement already satisfied: threadpoolctl>=2.0.0 in /usr/local/lib/python3.10/dist-packages (from scikit-learn>=1.0.2->mlxtend) (3.4.0)\n",
            "Requirement already satisfied: six>=1.5 in /usr/local/lib/python3.10/dist-packages (from python-dateutil>=2.7->matplotlib>=3.0.0->mlxtend) (1.16.0)\n"
          ]
        }
      ],
      "source": [
        "!pip install joblib\n",
        "import joblib\n",
        "!pip install mlxtend"
      ]
    },
    {
      "cell_type": "code",
      "execution_count": null,
      "metadata": {
        "colab": {
          "base_uri": "https://localhost:8080/"
        },
        "id": "G3rTkaTMhz5R",
        "outputId": "7a9f6ad8-322b-4157-ee37-fd1e11be5268"
      },
      "outputs": [
        {
          "output_type": "stream",
          "name": "stdout",
          "text": [
            "Collecting py7zr\n",
            "  Downloading py7zr-0.21.0-py3-none-any.whl (67 kB)\n",
            "\u001b[2K     \u001b[90m━━━━━━━━━━━━━━━━━━━━━━━━━━━━━━━━━━━━━━━━\u001b[0m \u001b[32m67.6/67.6 kB\u001b[0m \u001b[31m1.8 MB/s\u001b[0m eta \u001b[36m0:00:00\u001b[0m\n",
            "\u001b[?25hCollecting texttable (from py7zr)\n",
            "  Downloading texttable-1.7.0-py2.py3-none-any.whl (10 kB)\n",
            "Collecting pycryptodomex>=3.16.0 (from py7zr)\n",
            "  Downloading pycryptodomex-3.20.0-cp35-abi3-manylinux_2_17_x86_64.manylinux2014_x86_64.whl (2.1 MB)\n",
            "\u001b[2K     \u001b[90m━━━━━━━━━━━━━━━━━━━━━━━━━━━━━━━━━━━━━━━━\u001b[0m \u001b[32m2.1/2.1 MB\u001b[0m \u001b[31m12.8 MB/s\u001b[0m eta \u001b[36m0:00:00\u001b[0m\n",
            "\u001b[?25hCollecting pyzstd>=0.15.9 (from py7zr)\n",
            "  Downloading pyzstd-0.15.10-cp310-cp310-manylinux_2_17_x86_64.manylinux2014_x86_64.whl (411 kB)\n",
            "\u001b[2K     \u001b[90m━━━━━━━━━━━━━━━━━━━━━━━━━━━━━━━━━━━━━━━━\u001b[0m \u001b[32m411.2/411.2 kB\u001b[0m \u001b[31m17.1 MB/s\u001b[0m eta \u001b[36m0:00:00\u001b[0m\n",
            "\u001b[?25hCollecting pyppmd<1.2.0,>=1.1.0 (from py7zr)\n",
            "  Downloading pyppmd-1.1.0-cp310-cp310-manylinux_2_17_x86_64.manylinux2014_x86_64.whl (138 kB)\n",
            "\u001b[2K     \u001b[90m━━━━━━━━━━━━━━━━━━━━━━━━━━━━━━━━━━━━━━━━\u001b[0m \u001b[32m138.9/138.9 kB\u001b[0m \u001b[31m14.8 MB/s\u001b[0m eta \u001b[36m0:00:00\u001b[0m\n",
            "\u001b[?25hCollecting pybcj<1.1.0,>=1.0.0 (from py7zr)\n",
            "  Downloading pybcj-1.0.2-cp310-cp310-manylinux_2_17_x86_64.manylinux2014_x86_64.whl (49 kB)\n",
            "\u001b[2K     \u001b[90m━━━━━━━━━━━━━━━━━━━━━━━━━━━━━━━━━━━━━━━━\u001b[0m \u001b[32m49.7/49.7 kB\u001b[0m \u001b[31m5.0 MB/s\u001b[0m eta \u001b[36m0:00:00\u001b[0m\n",
            "\u001b[?25hCollecting multivolumefile>=0.2.3 (from py7zr)\n",
            "  Downloading multivolumefile-0.2.3-py3-none-any.whl (17 kB)\n",
            "Collecting inflate64<1.1.0,>=1.0.0 (from py7zr)\n",
            "  Downloading inflate64-1.0.0-cp310-cp310-manylinux_2_17_x86_64.manylinux2014_x86_64.whl (93 kB)\n",
            "\u001b[2K     \u001b[90m━━━━━━━━━━━━━━━━━━━━━━━━━━━━━━━━━━━━━━━━\u001b[0m \u001b[32m93.1/93.1 kB\u001b[0m \u001b[31m10.0 MB/s\u001b[0m eta \u001b[36m0:00:00\u001b[0m\n",
            "\u001b[?25hCollecting brotli>=1.1.0 (from py7zr)\n",
            "  Downloading Brotli-1.1.0-cp310-cp310-manylinux_2_5_x86_64.manylinux1_x86_64.manylinux_2_12_x86_64.manylinux2010_x86_64.whl (3.0 MB)\n",
            "\u001b[2K     \u001b[90m━━━━━━━━━━━━━━━━━━━━━━━━━━━━━━━━━━━━━━━━\u001b[0m \u001b[32m3.0/3.0 MB\u001b[0m \u001b[31m30.7 MB/s\u001b[0m eta \u001b[36m0:00:00\u001b[0m\n",
            "\u001b[?25hRequirement already satisfied: psutil in /usr/local/lib/python3.10/dist-packages (from py7zr) (5.9.5)\n",
            "Installing collected packages: texttable, brotli, pyzstd, pyppmd, pycryptodomex, pybcj, multivolumefile, inflate64, py7zr\n",
            "Successfully installed brotli-1.1.0 inflate64-1.0.0 multivolumefile-0.2.3 py7zr-0.21.0 pybcj-1.0.2 pycryptodomex-3.20.0 pyppmd-1.1.0 pyzstd-0.15.10 texttable-1.7.0\n"
          ]
        }
      ],
      "source": [
        "!pip install py7zr\n"
      ]
    },
    {
      "cell_type": "code",
      "execution_count": null,
      "metadata": {
        "id": "DRUtiT7dirx1"
      },
      "outputs": [],
      "source": [
        "import py7zr"
      ]
    },
    {
      "cell_type": "code",
      "execution_count": null,
      "metadata": {
        "colab": {
          "base_uri": "https://localhost:8080/"
        },
        "id": "SrwybMaokwqn",
        "outputId": "8d0fa790-5bdc-4807-9602-2c2c44c250a7"
      },
      "outputs": [
        {
          "output_type": "stream",
          "name": "stdout",
          "text": [
            "Mounted at /content/drive\n"
          ]
        }
      ],
      "source": [
        "from google.colab import drive\n",
        "drive.mount('/content/drive')\n"
      ]
    },
    {
      "cell_type": "code",
      "execution_count": null,
      "metadata": {
        "id": "SEV_odh4p8Pj",
        "colab": {
          "base_uri": "https://localhost:8080/"
        },
        "outputId": "14c6bf98-e8f3-45c8-98c4-e64121e02c6c"
      },
      "outputs": [
        {
          "output_type": "stream",
          "name": "stdout",
          "text": [
            "Requirement already satisfied: pyarrow in /usr/local/lib/python3.10/dist-packages (14.0.2)\n",
            "Requirement already satisfied: numpy>=1.16.6 in /usr/local/lib/python3.10/dist-packages (from pyarrow) (1.25.2)\n"
          ]
        }
      ],
      "source": [
        "!pip install pyarrow"
      ]
    },
    {
      "cell_type": "markdown",
      "metadata": {
        "id": "fqJu6TbPhdlb"
      },
      "source": [
        "# Load Dataset"
      ]
    },
    {
      "cell_type": "code",
      "execution_count": null,
      "metadata": {
        "id": "yzsy1kVghyLV"
      },
      "outputs": [],
      "source": [
        "# Specify the path to the 7-Zip archive file\n",
        "archive_path2= '/content/drive/My Drive/Colab Notebooks/Project/mds_data.feather'\n",
        "df = pd.read_feather(archive_path2)"
      ]
    },
    {
      "cell_type": "code",
      "source": [
        "location = ['emerald']\n",
        "df = df[df['name'].isin(location)].reset_index(drop=True)"
      ],
      "metadata": {
        "id": "lzlPh_gTxW-T"
      },
      "execution_count": null,
      "outputs": []
    },
    {
      "cell_type": "markdown",
      "metadata": {
        "id": "93EQJECcqiMu"
      },
      "source": [
        "# Data cleaning"
      ]
    },
    {
      "cell_type": "markdown",
      "metadata": {
        "id": "GJAIkufuzs3b"
      },
      "source": [
        "A zero variance feature in a dataset is a variable that has the same value for every observation. Such a feature does not contribute any information that can be used for analysis or predictive modeling because it does not vary between observations, essentially providing no insight or discriminative power"
      ]
    },
    {
      "cell_type": "code",
      "execution_count": null,
      "metadata": {
        "id": "M7Cmczkys-ee",
        "colab": {
          "base_uri": "https://localhost:8080/"
        },
        "outputId": "abc41705-fd51-470d-e775-e5621168ae6d"
      },
      "outputs": [
        {
          "output_type": "stream",
          "name": "stdout",
          "text": [
            "<class 'pandas.core.frame.DataFrame'>\n",
            "RangeIndex: 210560 entries, 0 to 210559\n",
            "Data columns (total 37 columns):\n",
            " #   Column               Non-Null Count   Dtype   \n",
            "---  ------               --------------   -----   \n",
            " 0   name                 210560 non-null  object  \n",
            " 1   longitude            210560 non-null  float64 \n",
            " 2   latitude             210560 non-null  float64 \n",
            " 3   simDoc               210560 non-null  object  \n",
            " 4   soilCapacity         210560 non-null  category\n",
            " 5   initialSW            210560 non-null  category\n",
            " 6   NFert                210560 non-null  category\n",
            " 7   sowDate              210560 non-null  category\n",
            " 8   cultivar             210560 non-null  category\n",
            " 9   pldensity            210560 non-null  category\n",
            " 10  SSC_start            210560 non-null  float64 \n",
            " 11  SSC_slowstart        210560 non-null  float64 \n",
            " 12  year                 210560 non-null  int32   \n",
            " 13  yield                210560 non-null  float64 \n",
            " 14  pawc                 210560 non-null  float64 \n",
            " 15  EpSum                210560 non-null  float64 \n",
            " 16  EpBeforeFlowering    210560 non-null  float64 \n",
            " 17  EpAroundFlowering    210560 non-null  float64 \n",
            " 18  EpAfterFlowering     210560 non-null  float64 \n",
            " 19  EsSum                210560 non-null  float64 \n",
            " 20  EsBeforeFlowering    210560 non-null  float64 \n",
            " 21  EsAroundFlowering    210560 non-null  float64 \n",
            " 22  EsAfterFlowering     210560 non-null  float64 \n",
            " 23  RadnSum              210560 non-null  float64 \n",
            " 24  RadnBeforeFlowering  210560 non-null  float64 \n",
            " 25  RadnAroundFlowering  210560 non-null  float64 \n",
            " 26  RadnAfterFlowering   210560 non-null  float64 \n",
            " 27  RainSum              210560 non-null  float64 \n",
            " 28  RainBeforeFlowering  210560 non-null  float64 \n",
            " 29  RainAroundFlowering  210560 non-null  float64 \n",
            " 30  RainAfterFlowering   210560 non-null  float64 \n",
            " 31  PTQSum               210560 non-null  float64 \n",
            " 32  RunOffSum            210560 non-null  float64 \n",
            " 33  MaxTAVG              210560 non-null  float64 \n",
            " 34  MinTAVG              210560 non-null  float64 \n",
            " 35  MeanTAVG             210560 non-null  float64 \n",
            " 36  CGRAroundFlowering   210560 non-null  float64 \n",
            "dtypes: category(6), float64(28), int32(1), object(2)\n",
            "memory usage: 50.2+ MB\n"
          ]
        }
      ],
      "source": [
        "df.info()"
      ]
    },
    {
      "cell_type": "code",
      "execution_count": null,
      "metadata": {
        "id": "pmoj5KJvuUP2",
        "colab": {
          "base_uri": "https://localhost:8080/"
        },
        "outputId": "45b37425-793e-444c-bfc2-50c1bb995f9a"
      },
      "outputs": [
        {
          "output_type": "stream",
          "name": "stdout",
          "text": [
            "Dataset has 210560 records\n",
            "with column names of ['name', 'longitude', 'latitude', 'simDoc', 'soilCapacity', 'initialSW', 'NFert', 'sowDate', 'cultivar', 'pldensity', 'SSC_start', 'SSC_slowstart', 'year', 'yield', 'pawc', 'EpSum', 'EpBeforeFlowering', 'EpAroundFlowering', 'EpAfterFlowering', 'EsSum', 'EsBeforeFlowering', 'EsAroundFlowering', 'EsAfterFlowering', 'RadnSum', 'RadnBeforeFlowering', 'RadnAroundFlowering', 'RadnAfterFlowering', 'RainSum', 'RainBeforeFlowering', 'RainAroundFlowering', 'RainAfterFlowering', 'PTQSum', 'RunOffSum', 'MaxTAVG', 'MinTAVG', 'MeanTAVG', 'CGRAroundFlowering']\n"
          ]
        }
      ],
      "source": [
        "print(f'Dataset has {len(df.index)} records')\n",
        "print(f'with column names of {list(df.columns)}')"
      ]
    },
    {
      "cell_type": "markdown",
      "metadata": {
        "id": "M_LAgOjdCOVY"
      },
      "source": [
        "### Drop all zero-variance features"
      ]
    },
    {
      "cell_type": "code",
      "execution_count": null,
      "metadata": {
        "id": "wAP2xhe6uKvb"
      },
      "outputs": [],
      "source": [
        "soil=df.copy()"
      ]
    },
    {
      "cell_type": "code",
      "execution_count": null,
      "metadata": {
        "id": "Ey-9uZgR4p7D",
        "colab": {
          "base_uri": "https://localhost:8080/"
        },
        "outputId": "53b5ee4a-9f81-48a2-9537-d3d6f3353314"
      },
      "outputs": [
        {
          "output_type": "execute_result",
          "data": {
            "text/plain": [
              "      name   longitude   latitude soilCapacity initialSW NFert sowDate  \\\n",
              "0  emerald  148.165108 -23.511288         base     25top     0  15-apr   \n",
              "1  emerald  148.165108 -23.511288         base     25top     0  15-apr   \n",
              "2  emerald  148.165108 -23.511288         base     25top     0  15-apr   \n",
              "3  emerald  148.165108 -23.511288         base     25top     0  15-apr   \n",
              "4  emerald  148.165108 -23.511288         base     25top     0  15-apr   \n",
              "\n",
              "   SSC_start  year     yield  ...  RainSum  RainBeforeFlowering  \\\n",
              "0      500.0  1910  1260.130  ...     94.9                 33.7   \n",
              "1      500.0  1911   483.800  ...     36.4                 21.1   \n",
              "2      500.0  1912  1216.562  ...    422.7                270.6   \n",
              "3      500.0  1913  1045.829  ...    243.8                219.8   \n",
              "4      500.0  1914  1291.633  ...    159.5                 39.0   \n",
              "\n",
              "   RainAroundFlowering  RainAfterFlowering  PTQSum  RunOffSum  MaxTAVG  \\\n",
              "0                 48.5                12.7   0.912      0.000   25.181   \n",
              "1                  0.0                15.3   1.070      0.000   24.963   \n",
              "2                152.1                 0.0   0.937     90.279   24.904   \n",
              "3                 20.5                 3.5   1.001     23.366   23.940   \n",
              "4                111.8                 8.7   0.909     21.629   25.146   \n",
              "\n",
              "   MinTAVG  MeanTAVG  CGRAroundFlowering  \n",
              "0    9.978    17.580             155.524  \n",
              "1    6.979    15.971              27.071  \n",
              "2    9.834    17.369             139.898  \n",
              "3    8.495    16.218             163.028  \n",
              "4    9.936    17.541             147.106  \n",
              "\n",
              "[5 rows x 33 columns]"
            ],
            "text/html": [
              "\n",
              "  <div id=\"df-c5a8d281-21d3-4769-ba53-11f564ea1187\" class=\"colab-df-container\">\n",
              "    <div>\n",
              "<style scoped>\n",
              "    .dataframe tbody tr th:only-of-type {\n",
              "        vertical-align: middle;\n",
              "    }\n",
              "\n",
              "    .dataframe tbody tr th {\n",
              "        vertical-align: top;\n",
              "    }\n",
              "\n",
              "    .dataframe thead th {\n",
              "        text-align: right;\n",
              "    }\n",
              "</style>\n",
              "<table border=\"1\" class=\"dataframe\">\n",
              "  <thead>\n",
              "    <tr style=\"text-align: right;\">\n",
              "      <th></th>\n",
              "      <th>name</th>\n",
              "      <th>longitude</th>\n",
              "      <th>latitude</th>\n",
              "      <th>soilCapacity</th>\n",
              "      <th>initialSW</th>\n",
              "      <th>NFert</th>\n",
              "      <th>sowDate</th>\n",
              "      <th>SSC_start</th>\n",
              "      <th>year</th>\n",
              "      <th>yield</th>\n",
              "      <th>...</th>\n",
              "      <th>RainSum</th>\n",
              "      <th>RainBeforeFlowering</th>\n",
              "      <th>RainAroundFlowering</th>\n",
              "      <th>RainAfterFlowering</th>\n",
              "      <th>PTQSum</th>\n",
              "      <th>RunOffSum</th>\n",
              "      <th>MaxTAVG</th>\n",
              "      <th>MinTAVG</th>\n",
              "      <th>MeanTAVG</th>\n",
              "      <th>CGRAroundFlowering</th>\n",
              "    </tr>\n",
              "  </thead>\n",
              "  <tbody>\n",
              "    <tr>\n",
              "      <th>0</th>\n",
              "      <td>emerald</td>\n",
              "      <td>148.165108</td>\n",
              "      <td>-23.511288</td>\n",
              "      <td>base</td>\n",
              "      <td>25top</td>\n",
              "      <td>0</td>\n",
              "      <td>15-apr</td>\n",
              "      <td>500.0</td>\n",
              "      <td>1910</td>\n",
              "      <td>1260.130</td>\n",
              "      <td>...</td>\n",
              "      <td>94.9</td>\n",
              "      <td>33.7</td>\n",
              "      <td>48.5</td>\n",
              "      <td>12.7</td>\n",
              "      <td>0.912</td>\n",
              "      <td>0.000</td>\n",
              "      <td>25.181</td>\n",
              "      <td>9.978</td>\n",
              "      <td>17.580</td>\n",
              "      <td>155.524</td>\n",
              "    </tr>\n",
              "    <tr>\n",
              "      <th>1</th>\n",
              "      <td>emerald</td>\n",
              "      <td>148.165108</td>\n",
              "      <td>-23.511288</td>\n",
              "      <td>base</td>\n",
              "      <td>25top</td>\n",
              "      <td>0</td>\n",
              "      <td>15-apr</td>\n",
              "      <td>500.0</td>\n",
              "      <td>1911</td>\n",
              "      <td>483.800</td>\n",
              "      <td>...</td>\n",
              "      <td>36.4</td>\n",
              "      <td>21.1</td>\n",
              "      <td>0.0</td>\n",
              "      <td>15.3</td>\n",
              "      <td>1.070</td>\n",
              "      <td>0.000</td>\n",
              "      <td>24.963</td>\n",
              "      <td>6.979</td>\n",
              "      <td>15.971</td>\n",
              "      <td>27.071</td>\n",
              "    </tr>\n",
              "    <tr>\n",
              "      <th>2</th>\n",
              "      <td>emerald</td>\n",
              "      <td>148.165108</td>\n",
              "      <td>-23.511288</td>\n",
              "      <td>base</td>\n",
              "      <td>25top</td>\n",
              "      <td>0</td>\n",
              "      <td>15-apr</td>\n",
              "      <td>500.0</td>\n",
              "      <td>1912</td>\n",
              "      <td>1216.562</td>\n",
              "      <td>...</td>\n",
              "      <td>422.7</td>\n",
              "      <td>270.6</td>\n",
              "      <td>152.1</td>\n",
              "      <td>0.0</td>\n",
              "      <td>0.937</td>\n",
              "      <td>90.279</td>\n",
              "      <td>24.904</td>\n",
              "      <td>9.834</td>\n",
              "      <td>17.369</td>\n",
              "      <td>139.898</td>\n",
              "    </tr>\n",
              "    <tr>\n",
              "      <th>3</th>\n",
              "      <td>emerald</td>\n",
              "      <td>148.165108</td>\n",
              "      <td>-23.511288</td>\n",
              "      <td>base</td>\n",
              "      <td>25top</td>\n",
              "      <td>0</td>\n",
              "      <td>15-apr</td>\n",
              "      <td>500.0</td>\n",
              "      <td>1913</td>\n",
              "      <td>1045.829</td>\n",
              "      <td>...</td>\n",
              "      <td>243.8</td>\n",
              "      <td>219.8</td>\n",
              "      <td>20.5</td>\n",
              "      <td>3.5</td>\n",
              "      <td>1.001</td>\n",
              "      <td>23.366</td>\n",
              "      <td>23.940</td>\n",
              "      <td>8.495</td>\n",
              "      <td>16.218</td>\n",
              "      <td>163.028</td>\n",
              "    </tr>\n",
              "    <tr>\n",
              "      <th>4</th>\n",
              "      <td>emerald</td>\n",
              "      <td>148.165108</td>\n",
              "      <td>-23.511288</td>\n",
              "      <td>base</td>\n",
              "      <td>25top</td>\n",
              "      <td>0</td>\n",
              "      <td>15-apr</td>\n",
              "      <td>500.0</td>\n",
              "      <td>1914</td>\n",
              "      <td>1291.633</td>\n",
              "      <td>...</td>\n",
              "      <td>159.5</td>\n",
              "      <td>39.0</td>\n",
              "      <td>111.8</td>\n",
              "      <td>8.7</td>\n",
              "      <td>0.909</td>\n",
              "      <td>21.629</td>\n",
              "      <td>25.146</td>\n",
              "      <td>9.936</td>\n",
              "      <td>17.541</td>\n",
              "      <td>147.106</td>\n",
              "    </tr>\n",
              "  </tbody>\n",
              "</table>\n",
              "<p>5 rows × 33 columns</p>\n",
              "</div>\n",
              "    <div class=\"colab-df-buttons\">\n",
              "\n",
              "  <div class=\"colab-df-container\">\n",
              "    <button class=\"colab-df-convert\" onclick=\"convertToInteractive('df-c5a8d281-21d3-4769-ba53-11f564ea1187')\"\n",
              "            title=\"Convert this dataframe to an interactive table.\"\n",
              "            style=\"display:none;\">\n",
              "\n",
              "  <svg xmlns=\"http://www.w3.org/2000/svg\" height=\"24px\" viewBox=\"0 -960 960 960\">\n",
              "    <path d=\"M120-120v-720h720v720H120Zm60-500h600v-160H180v160Zm220 220h160v-160H400v160Zm0 220h160v-160H400v160ZM180-400h160v-160H180v160Zm440 0h160v-160H620v160ZM180-180h160v-160H180v160Zm440 0h160v-160H620v160Z\"/>\n",
              "  </svg>\n",
              "    </button>\n",
              "\n",
              "  <style>\n",
              "    .colab-df-container {\n",
              "      display:flex;\n",
              "      gap: 12px;\n",
              "    }\n",
              "\n",
              "    .colab-df-convert {\n",
              "      background-color: #E8F0FE;\n",
              "      border: none;\n",
              "      border-radius: 50%;\n",
              "      cursor: pointer;\n",
              "      display: none;\n",
              "      fill: #1967D2;\n",
              "      height: 32px;\n",
              "      padding: 0 0 0 0;\n",
              "      width: 32px;\n",
              "    }\n",
              "\n",
              "    .colab-df-convert:hover {\n",
              "      background-color: #E2EBFA;\n",
              "      box-shadow: 0px 1px 2px rgba(60, 64, 67, 0.3), 0px 1px 3px 1px rgba(60, 64, 67, 0.15);\n",
              "      fill: #174EA6;\n",
              "    }\n",
              "\n",
              "    .colab-df-buttons div {\n",
              "      margin-bottom: 4px;\n",
              "    }\n",
              "\n",
              "    [theme=dark] .colab-df-convert {\n",
              "      background-color: #3B4455;\n",
              "      fill: #D2E3FC;\n",
              "    }\n",
              "\n",
              "    [theme=dark] .colab-df-convert:hover {\n",
              "      background-color: #434B5C;\n",
              "      box-shadow: 0px 1px 3px 1px rgba(0, 0, 0, 0.15);\n",
              "      filter: drop-shadow(0px 1px 2px rgba(0, 0, 0, 0.3));\n",
              "      fill: #FFFFFF;\n",
              "    }\n",
              "  </style>\n",
              "\n",
              "    <script>\n",
              "      const buttonEl =\n",
              "        document.querySelector('#df-c5a8d281-21d3-4769-ba53-11f564ea1187 button.colab-df-convert');\n",
              "      buttonEl.style.display =\n",
              "        google.colab.kernel.accessAllowed ? 'block' : 'none';\n",
              "\n",
              "      async function convertToInteractive(key) {\n",
              "        const element = document.querySelector('#df-c5a8d281-21d3-4769-ba53-11f564ea1187');\n",
              "        const dataTable =\n",
              "          await google.colab.kernel.invokeFunction('convertToInteractive',\n",
              "                                                    [key], {});\n",
              "        if (!dataTable) return;\n",
              "\n",
              "        const docLinkHtml = 'Like what you see? Visit the ' +\n",
              "          '<a target=\"_blank\" href=https://colab.research.google.com/notebooks/data_table.ipynb>data table notebook</a>'\n",
              "          + ' to learn more about interactive tables.';\n",
              "        element.innerHTML = '';\n",
              "        dataTable['output_type'] = 'display_data';\n",
              "        await google.colab.output.renderOutput(dataTable, element);\n",
              "        const docLink = document.createElement('div');\n",
              "        docLink.innerHTML = docLinkHtml;\n",
              "        element.appendChild(docLink);\n",
              "      }\n",
              "    </script>\n",
              "  </div>\n",
              "\n",
              "\n",
              "<div id=\"df-1881992f-ce9a-4d19-bc99-1af8ae3c1e98\">\n",
              "  <button class=\"colab-df-quickchart\" onclick=\"quickchart('df-1881992f-ce9a-4d19-bc99-1af8ae3c1e98')\"\n",
              "            title=\"Suggest charts\"\n",
              "            style=\"display:none;\">\n",
              "\n",
              "<svg xmlns=\"http://www.w3.org/2000/svg\" height=\"24px\"viewBox=\"0 0 24 24\"\n",
              "     width=\"24px\">\n",
              "    <g>\n",
              "        <path d=\"M19 3H5c-1.1 0-2 .9-2 2v14c0 1.1.9 2 2 2h14c1.1 0 2-.9 2-2V5c0-1.1-.9-2-2-2zM9 17H7v-7h2v7zm4 0h-2V7h2v10zm4 0h-2v-4h2v4z\"/>\n",
              "    </g>\n",
              "</svg>\n",
              "  </button>\n",
              "\n",
              "<style>\n",
              "  .colab-df-quickchart {\n",
              "      --bg-color: #E8F0FE;\n",
              "      --fill-color: #1967D2;\n",
              "      --hover-bg-color: #E2EBFA;\n",
              "      --hover-fill-color: #174EA6;\n",
              "      --disabled-fill-color: #AAA;\n",
              "      --disabled-bg-color: #DDD;\n",
              "  }\n",
              "\n",
              "  [theme=dark] .colab-df-quickchart {\n",
              "      --bg-color: #3B4455;\n",
              "      --fill-color: #D2E3FC;\n",
              "      --hover-bg-color: #434B5C;\n",
              "      --hover-fill-color: #FFFFFF;\n",
              "      --disabled-bg-color: #3B4455;\n",
              "      --disabled-fill-color: #666;\n",
              "  }\n",
              "\n",
              "  .colab-df-quickchart {\n",
              "    background-color: var(--bg-color);\n",
              "    border: none;\n",
              "    border-radius: 50%;\n",
              "    cursor: pointer;\n",
              "    display: none;\n",
              "    fill: var(--fill-color);\n",
              "    height: 32px;\n",
              "    padding: 0;\n",
              "    width: 32px;\n",
              "  }\n",
              "\n",
              "  .colab-df-quickchart:hover {\n",
              "    background-color: var(--hover-bg-color);\n",
              "    box-shadow: 0 1px 2px rgba(60, 64, 67, 0.3), 0 1px 3px 1px rgba(60, 64, 67, 0.15);\n",
              "    fill: var(--button-hover-fill-color);\n",
              "  }\n",
              "\n",
              "  .colab-df-quickchart-complete:disabled,\n",
              "  .colab-df-quickchart-complete:disabled:hover {\n",
              "    background-color: var(--disabled-bg-color);\n",
              "    fill: var(--disabled-fill-color);\n",
              "    box-shadow: none;\n",
              "  }\n",
              "\n",
              "  .colab-df-spinner {\n",
              "    border: 2px solid var(--fill-color);\n",
              "    border-color: transparent;\n",
              "    border-bottom-color: var(--fill-color);\n",
              "    animation:\n",
              "      spin 1s steps(1) infinite;\n",
              "  }\n",
              "\n",
              "  @keyframes spin {\n",
              "    0% {\n",
              "      border-color: transparent;\n",
              "      border-bottom-color: var(--fill-color);\n",
              "      border-left-color: var(--fill-color);\n",
              "    }\n",
              "    20% {\n",
              "      border-color: transparent;\n",
              "      border-left-color: var(--fill-color);\n",
              "      border-top-color: var(--fill-color);\n",
              "    }\n",
              "    30% {\n",
              "      border-color: transparent;\n",
              "      border-left-color: var(--fill-color);\n",
              "      border-top-color: var(--fill-color);\n",
              "      border-right-color: var(--fill-color);\n",
              "    }\n",
              "    40% {\n",
              "      border-color: transparent;\n",
              "      border-right-color: var(--fill-color);\n",
              "      border-top-color: var(--fill-color);\n",
              "    }\n",
              "    60% {\n",
              "      border-color: transparent;\n",
              "      border-right-color: var(--fill-color);\n",
              "    }\n",
              "    80% {\n",
              "      border-color: transparent;\n",
              "      border-right-color: var(--fill-color);\n",
              "      border-bottom-color: var(--fill-color);\n",
              "    }\n",
              "    90% {\n",
              "      border-color: transparent;\n",
              "      border-bottom-color: var(--fill-color);\n",
              "    }\n",
              "  }\n",
              "</style>\n",
              "\n",
              "  <script>\n",
              "    async function quickchart(key) {\n",
              "      const quickchartButtonEl =\n",
              "        document.querySelector('#' + key + ' button');\n",
              "      quickchartButtonEl.disabled = true;  // To prevent multiple clicks.\n",
              "      quickchartButtonEl.classList.add('colab-df-spinner');\n",
              "      try {\n",
              "        const charts = await google.colab.kernel.invokeFunction(\n",
              "            'suggestCharts', [key], {});\n",
              "      } catch (error) {\n",
              "        console.error('Error during call to suggestCharts:', error);\n",
              "      }\n",
              "      quickchartButtonEl.classList.remove('colab-df-spinner');\n",
              "      quickchartButtonEl.classList.add('colab-df-quickchart-complete');\n",
              "    }\n",
              "    (() => {\n",
              "      let quickchartButtonEl =\n",
              "        document.querySelector('#df-1881992f-ce9a-4d19-bc99-1af8ae3c1e98 button');\n",
              "      quickchartButtonEl.style.display =\n",
              "        google.colab.kernel.accessAllowed ? 'block' : 'none';\n",
              "    })();\n",
              "  </script>\n",
              "</div>\n",
              "\n",
              "    </div>\n",
              "  </div>\n"
            ],
            "application/vnd.google.colaboratory.intrinsic+json": {
              "type": "dataframe",
              "variable_name": "soil"
            }
          },
          "metadata": {},
          "execution_count": 12
        }
      ],
      "source": [
        "soil.drop(columns=['simDoc','cultivar','pldensity', 'SSC_slowstart'], inplace=True)\n",
        "soil.head()"
      ]
    },
    {
      "cell_type": "markdown",
      "metadata": {
        "id": "9N7A-ulwCVsi"
      },
      "source": [
        "Locate the target to the front of the table"
      ]
    },
    {
      "cell_type": "code",
      "execution_count": null,
      "metadata": {
        "id": "c7NV1EM143Gl"
      },
      "outputs": [],
      "source": [
        "# Move column at position n to position 0\n",
        "n = 0  # specify the index of the column to be moved, in this case, column 'D'\n",
        "cols = list(soil.columns)\n",
        "cols = [cols[9]] + [col for col in cols if col != cols[9]]\n",
        "\n",
        "# Reindex DataFrame with the reordered columns\n",
        "soil = soil[cols]"
      ]
    },
    {
      "cell_type": "code",
      "execution_count": null,
      "metadata": {
        "id": "I6e7Vus-5DO_",
        "colab": {
          "base_uri": "https://localhost:8080/"
        },
        "outputId": "a74b4b8b-24a8-4db5-b001-a72441226c00"
      },
      "outputs": [
        {
          "output_type": "stream",
          "name": "stdout",
          "text": [
            "<class 'pandas.core.frame.DataFrame'>\n",
            "RangeIndex: 210560 entries, 0 to 210559\n",
            "Data columns (total 33 columns):\n",
            " #   Column               Non-Null Count   Dtype   \n",
            "---  ------               --------------   -----   \n",
            " 0   yield                210560 non-null  float64 \n",
            " 1   name                 210560 non-null  object  \n",
            " 2   longitude            210560 non-null  float64 \n",
            " 3   latitude             210560 non-null  float64 \n",
            " 4   soilCapacity         210560 non-null  category\n",
            " 5   initialSW            210560 non-null  category\n",
            " 6   NFert                210560 non-null  category\n",
            " 7   sowDate              210560 non-null  category\n",
            " 8   SSC_start            210560 non-null  float64 \n",
            " 9   year                 210560 non-null  int32   \n",
            " 10  pawc                 210560 non-null  float64 \n",
            " 11  EpSum                210560 non-null  float64 \n",
            " 12  EpBeforeFlowering    210560 non-null  float64 \n",
            " 13  EpAroundFlowering    210560 non-null  float64 \n",
            " 14  EpAfterFlowering     210560 non-null  float64 \n",
            " 15  EsSum                210560 non-null  float64 \n",
            " 16  EsBeforeFlowering    210560 non-null  float64 \n",
            " 17  EsAroundFlowering    210560 non-null  float64 \n",
            " 18  EsAfterFlowering     210560 non-null  float64 \n",
            " 19  RadnSum              210560 non-null  float64 \n",
            " 20  RadnBeforeFlowering  210560 non-null  float64 \n",
            " 21  RadnAroundFlowering  210560 non-null  float64 \n",
            " 22  RadnAfterFlowering   210560 non-null  float64 \n",
            " 23  RainSum              210560 non-null  float64 \n",
            " 24  RainBeforeFlowering  210560 non-null  float64 \n",
            " 25  RainAroundFlowering  210560 non-null  float64 \n",
            " 26  RainAfterFlowering   210560 non-null  float64 \n",
            " 27  PTQSum               210560 non-null  float64 \n",
            " 28  RunOffSum            210560 non-null  float64 \n",
            " 29  MaxTAVG              210560 non-null  float64 \n",
            " 30  MinTAVG              210560 non-null  float64 \n",
            " 31  MeanTAVG             210560 non-null  float64 \n",
            " 32  CGRAroundFlowering   210560 non-null  float64 \n",
            "dtypes: category(4), float64(27), int32(1), object(1)\n",
            "memory usage: 46.6+ MB\n"
          ]
        }
      ],
      "source": [
        "#32 features+1target\n",
        "soil.info()"
      ]
    },
    {
      "cell_type": "markdown",
      "metadata": {
        "id": "M29lbQnOtBSc"
      },
      "source": [
        "# Data Preprocessing"
      ]
    },
    {
      "cell_type": "code",
      "execution_count": null,
      "metadata": {
        "id": "rTF0GguPZH9i"
      },
      "outputs": [],
      "source": [
        "X=soil.drop(['yield'],axis=1)\n",
        "y=soil['yield']"
      ]
    },
    {
      "cell_type": "code",
      "execution_count": null,
      "metadata": {
        "id": "zwPjhngvYt9R",
        "colab": {
          "base_uri": "https://localhost:8080/"
        },
        "outputId": "cef5d526-3e5e-44bf-e598-773ab3388321"
      },
      "outputs": [
        {
          "output_type": "execute_result",
          "data": {
            "text/plain": [
              "Index(['name', 'longitude', 'latitude', 'soilCapacity', 'initialSW', 'NFert',\n",
              "       'sowDate', 'SSC_start', 'year', 'pawc', 'EpSum', 'EpBeforeFlowering',\n",
              "       'EpAroundFlowering', 'EpAfterFlowering', 'EsSum', 'EsBeforeFlowering',\n",
              "       'EsAroundFlowering', 'EsAfterFlowering', 'RadnSum',\n",
              "       'RadnBeforeFlowering', 'RadnAroundFlowering', 'RadnAfterFlowering',\n",
              "       'RainSum', 'RainBeforeFlowering', 'RainAroundFlowering',\n",
              "       'RainAfterFlowering', 'PTQSum', 'RunOffSum', 'MaxTAVG', 'MinTAVG',\n",
              "       'MeanTAVG', 'CGRAroundFlowering'],\n",
              "      dtype='object')"
            ]
          },
          "metadata": {},
          "execution_count": 16
        }
      ],
      "source": [
        "X.columns"
      ]
    },
    {
      "cell_type": "code",
      "source": [
        "Column_keep=['EpBeforeFlowering','EpAroundFlowering','EpAfterFlowering', 'CGRAroundFlowering', 'pawc']\n",
        "\n",
        "X=pd.DataFrame(X[Column_keep].reset_index(drop=True))"
      ],
      "metadata": {
        "id": "p4R2xBQxz-8w"
      },
      "execution_count": null,
      "outputs": []
    },
    {
      "cell_type": "code",
      "source": [
        "X_train, X_test, y_train, y_test = train_test_split(X, y, test_size=0.4, random_state=42)"
      ],
      "metadata": {
        "id": "blSqnL6v09Ay"
      },
      "execution_count": null,
      "outputs": []
    },
    {
      "cell_type": "markdown",
      "metadata": {
        "id": "rPx4rNRNyk4i"
      },
      "source": [
        "### Standard Scaler"
      ]
    },
    {
      "cell_type": "code",
      "execution_count": null,
      "metadata": {
        "id": "CtBXTcVqHxst"
      },
      "outputs": [],
      "source": [
        "# Standardize the features\n",
        "scaler = StandardScaler()\n",
        "X_scaled = scaler.fit_transform(X_train)"
      ]
    },
    {
      "cell_type": "markdown",
      "metadata": {
        "id": "_nc3vIPnxGVl"
      },
      "source": [
        "### Imputed"
      ]
    },
    {
      "cell_type": "code",
      "execution_count": null,
      "metadata": {
        "id": "v3wohDT7xGrt",
        "colab": {
          "base_uri": "https://localhost:8080/"
        },
        "outputId": "6946c987-12f7-40ca-fa2a-9e69d0b393f6"
      },
      "outputs": [
        {
          "output_type": "execute_result",
          "data": {
            "text/plain": [
              "array([[-1.53307172, -0.17751667, -0.63115505, -0.15427556, -1.16332407],\n",
              "       [ 0.78309749, -0.50990398,  1.215933  , -0.28480784,  0.00499339],\n",
              "       [-1.16114813, -0.56618247,  0.41778222, -0.41846084, -0.69599709],\n",
              "       ...,\n",
              "       [-1.62592618, -1.14074668, -0.89085438, -1.03736557, -0.69599709],\n",
              "       [ 1.55766014,  1.54055294,  2.46418192,  1.15995885,  0.47232037],\n",
              "       [ 1.40431878,  2.70243005,  4.00487515,  3.43955409,  0.39443254]])"
            ]
          },
          "metadata": {},
          "execution_count": 20
        }
      ],
      "source": [
        "from sklearn.impute import SimpleImputer\n",
        "\n",
        "# Creating the imputer object\n",
        "imputer = SimpleImputer(strategy='median')\n",
        "# # Fitting the imputer to the data and transforming it\n",
        "X_imputed = imputer.fit_transform(X_scaled)\n",
        "\n",
        "# Resulting DataFrame\n",
        "X_imputed"
      ]
    },
    {
      "cell_type": "code",
      "source": [
        "y_train"
      ],
      "metadata": {
        "colab": {
          "base_uri": "https://localhost:8080/"
        },
        "id": "h0K2i_HTUvq5",
        "outputId": "b55050c6-afda-4dc9-bd80-08ddff41b212"
      },
      "execution_count": null,
      "outputs": [
        {
          "output_type": "execute_result",
          "data": {
            "text/plain": [
              "10055      590.608\n",
              "60744     2028.325\n",
              "112198     926.292\n",
              "200550     456.575\n",
              "89259      993.996\n",
              "            ...   \n",
              "119879    2185.508\n",
              "103694    1741.547\n",
              "131932      94.555\n",
              "146867    2617.438\n",
              "121958    4605.121\n",
              "Name: yield, Length: 126336, dtype: float64"
            ]
          },
          "metadata": {},
          "execution_count": 21
        }
      ]
    },
    {
      "cell_type": "code",
      "source": [
        "X_train=pd.DataFrame(imputer.fit_transform(X_imputed), columns=Column_keep).reset_index(drop=True)"
      ],
      "metadata": {
        "id": "k4RuPO0DWbbz"
      },
      "execution_count": null,
      "outputs": []
    },
    {
      "cell_type": "code",
      "source": [
        "y_train=y_train.reset_index(drop=True)"
      ],
      "metadata": {
        "id": "SqB2CrZDXGrN"
      },
      "execution_count": null,
      "outputs": []
    },
    {
      "cell_type": "markdown",
      "metadata": {
        "id": "zYzY5_ByRNUp"
      },
      "source": [
        "# Feature selected"
      ]
    },
    {
      "cell_type": "code",
      "execution_count": null,
      "metadata": {
        "id": "HtsLGGXdsThA",
        "colab": {
          "base_uri": "https://localhost:8080/"
        },
        "outputId": "ebbbf8ae-5a71-4bbe-9916-da3c1a198dce"
      },
      "outputs": [
        {
          "output_type": "stream",
          "name": "stdout",
          "text": [
            "                            OLS Regression Results                            \n",
            "==============================================================================\n",
            "Dep. Variable:                  yield   R-squared:                       0.963\n",
            "Model:                            OLS   Adj. R-squared:                  0.963\n",
            "Method:                 Least Squares   F-statistic:                 6.613e+05\n",
            "Date:                Wed, 10 Apr 2024   Prob (F-statistic):               0.00\n",
            "Time:                        11:32:25   Log-Likelihood:            -8.2724e+05\n",
            "No. Observations:              126336   AIC:                         1.654e+06\n",
            "Df Residuals:                  126330   BIC:                         1.655e+06\n",
            "Df Model:                           5                                         \n",
            "Covariance Type:            nonrobust                                         \n",
            "======================================================================================\n",
            "                         coef    std err          t      P>|t|      [0.025      0.975]\n",
            "--------------------------------------------------------------------------------------\n",
            "const               1180.2784      0.475   2484.508      0.000    1179.347    1181.209\n",
            "EpBeforeFlowering    200.5878      0.627    319.970      0.000     199.359     201.817\n",
            "EpAroundFlowering   -166.9819      1.910    -87.433      0.000    -170.725    -163.239\n",
            "EpAfterFlowering     281.2570      0.692    406.428      0.000     279.901     282.613\n",
            "CGRAroundFlowering   691.4887      1.883    367.223      0.000     687.798     695.179\n",
            "pawc                  -8.4178      0.593    -14.186      0.000      -9.581      -7.255\n",
            "==============================================================================\n",
            "Omnibus:                    20255.479   Durbin-Watson:                   2.005\n",
            "Prob(Omnibus):                  0.000   Jarque-Bera (JB):           274463.698\n",
            "Skew:                          -0.342   Prob(JB):                         0.00\n",
            "Kurtosis:                      10.188   Cond. No.                         10.1\n",
            "==============================================================================\n",
            "\n",
            "Notes:\n",
            "[1] Standard Errors assume that the covariance matrix of the errors is correctly specified.\n"
          ]
        }
      ],
      "source": [
        "# # Add a constant (intercept) to the model\n",
        "X_train_const = sm.add_constant(X_train)\n",
        "\n",
        "\n",
        "# Fit the OLS model\n",
        "model = sm.OLS(y_train, X_train_const).fit()\n",
        "\n",
        "# Summary of the model to get p-values and t-values\n",
        "print(model.summary())"
      ]
    },
    {
      "cell_type": "code",
      "source": [
        "# Define the desired sample size\n",
        "sample_size = 15000\n",
        "\n",
        "# Perform random sampling on X_train\n",
        "sampled_X_train = X_train.sample(n=sample_size, random_state=42)\n",
        "\n",
        "# Get the indices of the sampled rows\n",
        "sampled_indices = sampled_X_train.index\n",
        "\n",
        "# Retrieve corresponding records from y_train using the sampled indices\n",
        "sampled_y_train = y_train.loc[sampled_indices]\n",
        "\n"
      ],
      "metadata": {
        "id": "iBbXDfMfO0n7"
      },
      "execution_count": null,
      "outputs": []
    },
    {
      "cell_type": "markdown",
      "metadata": {
        "id": "QPjMHRHofBY9"
      },
      "source": [
        "# Modelling"
      ]
    },
    {
      "cell_type": "markdown",
      "metadata": {
        "id": "a26r_SBFrxcx"
      },
      "source": [
        "## Random Forest"
      ]
    },
    {
      "cell_type": "markdown",
      "metadata": {
        "id": "8bSbIHHQGte3"
      },
      "source": [
        "* Random Forest is a **non-linear** model that consists of a collection of decision trees.\n",
        "* Random Forest does not require feature scaling (like standardization or normalization) before training. The model is not sensitive to the magnitude of features since it uses rule-based splitting.\n",
        "* Random Forest **does not assume a linear relationship between features and the target variable**. It can capture non-linear relationships.\n",
        "* There are no assumptions about the distribution of the features or target variable. Therefore, it can handle skewed and non-normally distributed data quite well.\n",
        "* Random Forest can handle a skewed target variable without the need for transformation, sometimes transforming the target variable.\n",
        "*  it is often considered a \"black box\" model, meaning it is less interpretable than linear models. Feature importance scores from a Random Forest can give some insight into the relative importance of features, but they don't provide information about the nature of the relationships between features and the target.\n",
        "* Random Forest is also quite robust to outliers in the input features. However, extreme outliers in the target variable can still potentially influence the construction of trees and lead to overfitting."
      ]
    },
    {
      "cell_type": "code",
      "execution_count": null,
      "metadata": {
        "id": "vKAs381VIKUG",
        "colab": {
          "base_uri": "https://localhost:8080/"
        },
        "outputId": "9454a8df-f17a-473b-ab77-96e7c49216c9"
      },
      "outputs": [
        {
          "output_type": "stream",
          "name": "stdout",
          "text": [
            "129.185\n",
            "129.185\n",
            "{'max_depth': 8, 'max_features': None, 'min_samples_leaf': 10, 'min_samples_split': 10, 'n_estimators': 300}\n"
          ]
        }
      ],
      "source": [
        "from sklearn.ensemble import RandomForestRegressor\n",
        "from sklearn.model_selection import cross_validate, KFold, GridSearchCV\n",
        "from sklearn.metrics import make_scorer, mean_squared_error, mean_absolute_error, r2_score\n",
        "\n",
        "import numpy as np\n",
        "import matplotlib.pyplot as plt\n",
        "\n",
        "# Define a KFold cross-validation object\n",
        "kf = KFold(n_splits=5, shuffle=True, random_state=1)\n",
        "\n",
        "\n",
        "# Parameters grid for Random Forest Regressor\n",
        "param_grid = {\n",
        "    'n_estimators': [300],\n",
        "    'max_depth': [8],\n",
        "    'min_samples_split': [10],\n",
        "    'min_samples_leaf': [10],\n",
        "    'max_features': ['sqrt', 'log2', None]\n",
        "}\n",
        "\n",
        "\n",
        "# Initialize the Random Forest Regressor model\n",
        "random_forest_model = RandomForestRegressor(random_state=1)\n",
        "\n",
        "# Initialize GridSearchCV\n",
        "grid_search_rf = GridSearchCV(random_forest_model, param_grid, cv=kf, scoring='neg_root_mean_squared_error', n_jobs=-1, return_train_score=True)\n",
        "\n",
        "\n",
        "# Perform grid search\n",
        "grid_search_rf.fit(sampled_X_train, sampled_y_train)\n",
        "\n",
        "# Show metrics\n",
        "mse_test_rf = -grid_search_rf.cv_results_['mean_test_score']\n",
        "mse_train_rf = -grid_search_rf.cv_results_['mean_test_score']\n",
        "\n",
        "\n",
        "print(round(np. mean(mse_test_rf),3))\n",
        "print(round(np. mean(mse_train_rf ),3))\n",
        "\n",
        "\n",
        "# Get the best estimator\n",
        "best_rf_model = grid_search_rf.best_estimator_\n",
        "\n",
        "best_parameters_rf =grid_search_rf.best_params_\n",
        "print(best_parameters_rf)"
      ]
    },
    {
      "cell_type": "code",
      "execution_count": null,
      "metadata": {
        "id": "WSvPYDRomDIX",
        "colab": {
          "base_uri": "https://localhost:8080/",
          "height": 472
        },
        "outputId": "e1c4f14b-643f-45ac-c370-2dc47b8594c2"
      },
      "outputs": [
        {
          "output_type": "display_data",
          "data": {
            "text/plain": [
              "<Figure size 640x480 with 1 Axes>"
            ],
            "image/png": "[encoded data removed]"
          },
          "metadata": {}
        }
      ],
      "source": [
        "from sklearn.model_selection import learning_curve\n",
        "train_sizes, train_scores, valid_scores = learning_curve(best_rf_model, sampled_X_train , sampled_y_train , train_sizes=np.linspace(0.01, 1, 10), cv=5, scoring=\"neg_root_mean_squared_error\")\n",
        "train_errors = -train_scores.mean(axis=1)\n",
        "valid_errors = -valid_scores.mean(axis=1)\n",
        "plt.plot(train_sizes, train_errors, \"r-+\", linewidth=2, label=\"train\")\n",
        "plt.plot(train_sizes, valid_errors, \"b-\", linewidth=3, label=\"valid\")\n",
        "  # beautify the figure: add labels, axis, grid, and legend\n",
        "plt.xlabel('Training set size')\n",
        "plt.ylabel('RMSE')\n",
        "plt.title('Learning Curve- Local Model 1')\n",
        "plt.legend()\n",
        "plt.show()"
      ]
    },
    {
      "cell_type": "markdown",
      "metadata": {
        "id": "UaubTDYQtsVa"
      },
      "source": [
        "# Model selection"
      ]
    },
    {
      "cell_type": "markdown",
      "metadata": {
        "id": "NsHmIDU7hFt1"
      },
      "source": [
        "## Random Forest"
      ]
    },
    {
      "cell_type": "code",
      "source": [
        "X_test_sca=scaler.transform(X_test)\n",
        "X_test_prepro=imputer.transform(X_test_sca)"
      ],
      "metadata": {
        "id": "OIvLUxFSR5Vj"
      },
      "execution_count": null,
      "outputs": []
    },
    {
      "cell_type": "code",
      "execution_count": null,
      "metadata": {
        "id": "dXneIuUbbGIu",
        "colab": {
          "base_uri": "https://localhost:8080/"
        },
        "outputId": "a08d88eb-effe-48b4-e1f9-20ec46a3aad3"
      },
      "outputs": [
        {
          "output_type": "stream",
          "name": "stderr",
          "text": [
            "/usr/local/lib/python3.10/dist-packages/sklearn/base.py:439: UserWarning: X does not have valid feature names, but RandomForestRegressor was fitted with feature names\n",
            "  warnings.warn(\n"
          ]
        },
        {
          "output_type": "stream",
          "name": "stdout",
          "text": [
            "MSE Random Forest:15006.499\n",
            "RMSE Random Forest:122.501\n",
            "MAE Random Forest: 81.277\n",
            "R-squared Random Forest: 0.98\n"
          ]
        }
      ],
      "source": [
        "# Now you can use .predict()\n",
        "pred_rf_2=best_rf_model.predict(X_test_prepro)\n",
        "\n",
        "# Calculate Mean Squared Error (MSE)\n",
        "mse_rf_2= mean_squared_error(y_test, pred_rf_2)\n",
        "\n",
        "# Calculate Root Mean Squared Error (RMSE)\n",
        "rmse_rf_2= np.sqrt(mse_rf_2)\n",
        "\n",
        "# Calculate Mean Absolute Error (MAE)\n",
        "mae_rf_2= mean_absolute_error(y_test, pred_rf_2)\n",
        "\n",
        "# Calculate R-squared\n",
        "r2_rf_2= r2_score(y_test, pred_rf_2)\n",
        "\n",
        "print(f'MSE Random Forest:{np.round(mse_rf_2,3)}')\n",
        "print(f'RMSE Random Forest:{np.round(rmse_rf_2,3)}')\n",
        "print(f'MAE Random Forest: {np.round(mae_rf_2,3)}')\n",
        "print(f'R-squared Random Forest: {np.round(r2_rf_2,3)}')\n"
      ]
    },
    {
      "cell_type": "code",
      "source": [
        "import matplotlib.pyplot as plt\n",
        "\n",
        "# Plot predicted values vs actual values\n",
        "plt.scatter(y_test, pred_rf_2, color=\"blue\")\n",
        "\n",
        "# Calculate the min and max values for both y_test and pred_rf_2 to ensure the line covers the full range\n",
        "combined_min = min(y_test.min(), pred_rf_2.min())\n",
        "combined_max = max(y_test.max(), pred_rf_2.max())\n",
        "\n",
        "# Plot a diagonal line\n",
        "plt.plot([combined_min, combined_max], [combined_min, combined_max], 'k--', lw=2)\n",
        "\n",
        "plt.title(\"Random Forest - Local Model 1 Performance\")\n",
        "plt.xlabel('True Values')\n",
        "plt.ylabel('Predicted Values')\n",
        "\n",
        "plt.show()\n"
      ],
      "metadata": {
        "colab": {
          "base_uri": "https://localhost:8080/",
          "height": 472
        },
        "id": "YN-CEFNfxVk4",
        "outputId": "cd315e94-f2d6-47cc-e43d-5568a630d6bf"
      },
      "execution_count": null,
      "outputs": [
        {
          "output_type": "display_data",
          "data": {
            "text/plain": [
              "<Figure size 640x480 with 1 Axes>"
            ],
            "image/png": "[encoded data removed]"
          },
          "metadata": {}
        }
      ]
    },
    {
      "cell_type": "markdown",
      "metadata": {
        "id": "JjzqEAXFt5iI"
      },
      "source": [
        "# Testing"
      ]
    },
    {
      "cell_type": "markdown",
      "source": [
        "## Data"
      ],
      "metadata": {
        "id": "ebeU4yKCJCK1"
      }
    },
    {
      "cell_type": "code",
      "source": [
        "import py7zr\n",
        "import pandas as pd\n",
        "import os\n",
        "\n",
        "# Define the path to the .7z file and the extraction target path\n",
        "archive_path = '/content/drive/My Drive/Colab Notebooks/Project/mds-data-1-soil.7z'\n",
        "extraction_path = '/content/drive/My Drive/Colab Notebooks/Project/'\n",
        "\n",
        "# Extract the .feather file from the .7z archive\n",
        "with py7zr.SevenZipFile(archive_path, mode='r') as z:\n",
        "    z.extractall(path=extraction_path)\n",
        "\n",
        "# Now, the .feather file should be extracted to the extraction_path.\n",
        "# Define the path to the extracted .feather file\n",
        "feather_file_path = os.path.join(extraction_path, 'mds-data-1-soil.feather')\n",
        "\n",
        "# Load the .feather file into a pandas DataFrame\n",
        "df2 = pd.read_feather(feather_file_path)\n",
        "\n",
        "# Now 'df' contains the data from the 'mds-data-1-soil.feather' file\n"
      ],
      "metadata": {
        "id": "CmQMdhaQ4dVb"
      },
      "execution_count": null,
      "outputs": []
    },
    {
      "cell_type": "code",
      "source": [
        "df2.info()"
      ],
      "metadata": {
        "id": "jU0XAHis4itT",
        "colab": {
          "base_uri": "https://localhost:8080/"
        },
        "outputId": "801fead0-0918-453d-d56b-e930c5ea4f89"
      },
      "execution_count": null,
      "outputs": [
        {
          "output_type": "stream",
          "name": "stdout",
          "text": [
            "<class 'pandas.core.frame.DataFrame'>\n",
            "RangeIndex: 478438 entries, 0 to 478437\n",
            "Data columns (total 37 columns):\n",
            " #   Column               Non-Null Count   Dtype   \n",
            "---  ------               --------------   -----   \n",
            " 0   name                 478438 non-null  object  \n",
            " 1   longitude            478438 non-null  float64 \n",
            " 2   latitude             478438 non-null  float64 \n",
            " 3   simDoc               478438 non-null  object  \n",
            " 4   soilCapacity         478438 non-null  category\n",
            " 5   initialSW            478438 non-null  category\n",
            " 6   NFert                478438 non-null  category\n",
            " 7   sowDate              478438 non-null  category\n",
            " 8   cultivar             478438 non-null  category\n",
            " 9   pldensity            478438 non-null  category\n",
            " 10  SSC_start            478438 non-null  float64 \n",
            " 11  SSC_slowstart        478438 non-null  float64 \n",
            " 12  year                 478438 non-null  int32   \n",
            " 13  yield                473680 non-null  float64 \n",
            " 14  pawc                 473680 non-null  float64 \n",
            " 15  EpSum                473680 non-null  float64 \n",
            " 16  EpBeforeFlowering    473680 non-null  float64 \n",
            " 17  EpAroundFlowering    473680 non-null  float64 \n",
            " 18  EpAfterFlowering     473680 non-null  float64 \n",
            " 19  EsSum                473680 non-null  float64 \n",
            " 20  EsBeforeFlowering    473680 non-null  float64 \n",
            " 21  EsAroundFlowering    473680 non-null  float64 \n",
            " 22  EsAfterFlowering     473680 non-null  float64 \n",
            " 23  RadnSum              473680 non-null  float64 \n",
            " 24  RadnBeforeFlowering  473680 non-null  float64 \n",
            " 25  RadnAroundFlowering  473680 non-null  float64 \n",
            " 26  RadnAfterFlowering   473680 non-null  float64 \n",
            " 27  RainSum              473680 non-null  float64 \n",
            " 28  RainBeforeFlowering  473680 non-null  float64 \n",
            " 29  RainAroundFlowering  473680 non-null  float64 \n",
            " 30  RainAfterFlowering   473680 non-null  float64 \n",
            " 31  PTQSum               473680 non-null  float64 \n",
            " 32  RunOffSum            473680 non-null  float64 \n",
            " 33  MaxTAVG              473680 non-null  float64 \n",
            " 34  MinTAVG              473680 non-null  float64 \n",
            " 35  MeanTAVG             473680 non-null  float64 \n",
            " 36  CGRAroundFlowering   473680 non-null  float64 \n",
            "dtypes: category(6), float64(28), int32(1), object(2)\n",
            "memory usage: 114.1+ MB\n"
          ]
        }
      ]
    },
    {
      "cell_type": "code",
      "source": [
        "df2=pd.DataFrame(df2)\n",
        "df2.dropna(inplace=True)\n",
        "X_test = df2[['EpBeforeFlowering','EpAroundFlowering', 'EpAfterFlowering', 'CGRAroundFlowering']]\n",
        "y_test = df2['yield']"
      ],
      "metadata": {
        "id": "L0gLtpdF4-qD"
      },
      "execution_count": null,
      "outputs": []
    },
    {
      "cell_type": "code",
      "source": [
        "X_test = pd.DataFrame(scaler.transform(X_test), columns=['EpBeforeFlowering','EpAroundFlowering', 'EpAfterFlowering', 'CGRAroundFlowering'])"
      ],
      "metadata": {
        "id": "8EaPAUb76URk"
      },
      "execution_count": null,
      "outputs": []
    },
    {
      "cell_type": "markdown",
      "metadata": {
        "id": "wUeTnjgdWxB6"
      },
      "source": [
        "## RF"
      ]
    },
    {
      "cell_type": "code",
      "execution_count": null,
      "metadata": {
        "id": "rStKnEaSpRTb",
        "colab": {
          "base_uri": "https://localhost:8080/"
        },
        "outputId": "7e0fc7d8-692f-4b86-eb7c-17f7280366ec"
      },
      "outputs": [
        {
          "output_type": "stream",
          "name": "stdout",
          "text": [
            "MSE Test:187323.02\n",
            "RMSE Test:432.81\n",
            "MAE Test: 342.36\n",
            "R-squared Test: 0.85\n"
          ]
        }
      ],
      "source": [
        "test_rf=best_rf_model.predict(X_test)\n",
        "\n",
        "# Calculate Mean Squared Error (MSE)\n",
        "mse_test= mean_squared_error(y_test, test_rf)\n",
        "\n",
        "# Calculate Root Mean Squared Error (RMSE)\n",
        "rmse_test= np.sqrt(mse_test)\n",
        "\n",
        "# Calculate Mean Absolute Error (MAE)\n",
        "mae_test= mean_absolute_error(y_test, test_rf)\n",
        "\n",
        "# Calculate R-squared\n",
        "r2_test= r2_score(y_test, test_rf)\n",
        "\n",
        "print(f'MSE Test:{np.round(np.mean(mse_test),2)}')\n",
        "print(f'RMSE Test:{np.round(np.mean(rmse_test),2)}')\n",
        "print(f'MAE Test: {np.round(np.mean(mae_test),2)}')\n",
        "print(f'R-squared Test: {np.round(r2_test,2)}')"
      ]
    },
    {
      "cell_type": "code",
      "execution_count": null,
      "metadata": {
        "id": "9V-9g8QYVSyf",
        "colab": {
          "base_uri": "https://localhost:8080/",
          "height": 472
        },
        "outputId": "ba965f15-d049-4580-cfc6-720c09aa06c4"
      },
      "outputs": [
        {
          "output_type": "display_data",
          "data": {
            "text/plain": [
              "<Figure size 640x480 with 1 Axes>"
            ],
            "image/png": "[encoded data removed]"
          },
          "metadata": {}
        }
      ],
      "source": [
        "import matplotlib.pyplot as plt\n",
        "\n",
        "# Plot predicted values vs actual values\n",
        "plt.scatter(y_test, test_rf, color=\"green\")\n",
        "plt.plot([y_test.min(), y_test.max()], [test_rf.min(), test_rf.max()], 'k--', lw=2)  # Diagonal line\n",
        "plt.title(\"Test performance\")\n",
        "plt.xlabel('Measured')\n",
        "plt.ylabel('Predicted')\n",
        "\n",
        "plt.show()"
      ]
    }
  ],
  "metadata": {
    "colab": {
      "collapsed_sections": [
        "Hg2VWiC6hMps",
        "93EQJECcqiMu",
        "0yvpemKptAhI",
        "M29lbQnOtBSc",
        "XJslJnQ0d-4i",
        "kIzpCgY0LNCh",
        "bZI7q9vg7mUm",
        "xFwCrhk-MXmT",
        "bYuXPB6GMjBQ",
        "cmYVabPgMub-",
        "VHTChigXNE-Y",
        "n2nq8xqzw4eB"
      ],
      "toc_visible": true,
      "provenance": [],
      "authorship_tag": "ABX9TyP9Mbh09UBthbTuPbFBn/+Z",
      "include_colab_link": true
    },
    "kernelspec": {
      "display_name": "Python 3",
      "name": "python3"
    },
    "language_info": {
      "name": "python"
    }
  },
  "nbformat": 4,
  "nbformat_minor": 0
}